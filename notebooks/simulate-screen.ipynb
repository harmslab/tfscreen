{
 "cells": [
  {
   "cell_type": "code",
   "execution_count": 1,
   "id": "162c625e-4102-4520-a7d1-7b69eaec8a6b",
   "metadata": {},
   "outputs": [],
   "source": [
    "%matplotlib inline\n",
    "from matplotlib import pyplot as plt\n",
    "import numpy as np\n",
    "import pandas as pd\n",
    "from tqdm.auto import tqdm\n",
    "\n",
    "import tfscreen\n",
    "\n",
    "from tfscreen import generate_libraries\n",
    "from tfscreen import generate_phenotypes\n",
    "from tfscreen import build_condition_dataframe\n",
    "\n",
    "\n",
    "from tfscreen import pheno_to_growth\n",
    "from tfscreen import transform_and_mix\n",
    "from tfscreen import initialize_population\n",
    "from tfscreen import growth_with_selection\n",
    "from tfscreen import sequence_and_collate\n",
    "\n",
    "import random\n",
    "import copy\n"
   ]
  },
  {
   "cell_type": "code",
   "execution_count": 7,
   "id": "8ac75438-4453-4aa9-844c-da889a830eab",
   "metadata": {},
   "outputs": [],
   "source": [
    "# -----------------------------------------------------------------------------\n",
    "# Ensemble information\n",
    "\n",
    "# spreadsheet defining ensemble and interactions with iptg\n",
    "ensemble_spreadsheet = \"input/ensemble.xlsx\"\n",
    "\n",
    "# Spreadsheet with affects of all mutations on each state in ensemble\n",
    "ddG_spreadsheet = \"input/ddG.xlsx\"\n",
    "\n",
    "T = 310      # K\n",
    "R = 0.001987 # kcal/mol/K\n",
    "\n",
    "# -----------------------------------------------------------------------------\n",
    "# Library definition information\n",
    "\n",
    "# wildtype amino acid sequence (single letter, uppercase)\n",
    "aa_sequence = \\\n",
    "\"\"\"\n",
    "VKPVTLYDVAEYAGVSYQTVSRVVNQASHVSAKTREKVEAAMAELNYIPNRVAQQLAGK\n",
    "QSLLIGVATSSLALHAPSQIVAAIKSRADQLGASVVVSMVERSGVEACKAAVHNLLAQR\n",
    "VSGLIINYPLDDQDAIAVEAACTNVPALFLDVSDQTPINSIIFSHEDGTRLGVEHLVAL\n",
    "GHQQIALLAGPLSSVSARLRLAGWHKYLTRNQIQPIAEREGDWSAMSGFQQTMQMLNEG\n",
    "IVPTAMLVANDQMALGAMRAITESGLRVGADISVVGYDDTEDSSCYIPPLTTIKQDFRL\n",
    "LGQTSVDRLLQLSQGQAVKGNQLLPVSLVKRKTTLAPNTQTASP\n",
    "\"\"\"\n",
    "\n",
    "# sites that are mutated. sites should either be wildtype \n",
    "# amino acids or non-uppercase letters. non-uppercase letters\n",
    "# are interpreted as sub-library identifiers. \n",
    "mutated_sites = \\\n",
    "\"\"\"\n",
    "VKPVTLYDVAEYAGVSYQTVSRVVNQASH111111111111111111111111111111\n",
    "QS2222222222222222222222222222222222222VERSGVEACKAAVHNLLAQR\n",
    "VSGLIINYPLDDQDAIAVEAACTNVPALFLDVSDQTPINSIIFSHEDGTRLGVEHLVAL\n",
    "GHQQIALLAGPLSSVSARLRLAGWHKYLTRNQIQPIAEREGDWSAMSGFQQTMQMLNEG\n",
    "IVPTAMLVANDQMALGAMRAITESGLRVGADISVVGYDDTEDSSCYIPPLTTIKQDFRL\n",
    "LGQTSVDRLLQLSQGQAVKGNQLLPVSLVKRKTTLAPNTQTASP\n",
    "\"\"\"\n",
    "\n",
    "# Number of first letter in amino sequence. Should match \n",
    "# numbering in ddG spreadsheet\n",
    "seq_starts_at = 1\n",
    "\n",
    "# Should we make internal combinations (within O1, O2, etc.)\n",
    "internal_doubles = False \n",
    "\n",
    "# highest order combination to make (1 -- alone, 2 -- pairs,\n",
    "# 3 -- triplicates, etc.)\n",
    "max_num_combos = 2\n",
    "\n",
    "# What codon to place at mutated sites\n",
    "degen_codon = \"nnt\"\n",
    "\n",
    "# -----------------------------------------------------------------------------\n",
    "# Transformation and library composition\n",
    "\n",
    "# Define how many transformants to include for each sub-library. Keys are \n",
    "# tuples of strings. ('1',) means O1; ('2',) means O2; ('1','2') means O1/O2. \n",
    "# if you set internal_doubles to True above, you can then add ('1','1') and \n",
    "# ('2','2') to get the doubles within each pool. \n",
    "\n",
    "# sizes: how many clones will you get for the smallest transformation of this\n",
    "# library\n",
    "transform_sizes = {('1',):1e5,\n",
    "                   ('2',):1e5,\n",
    "                   ('1','2'):1e6}\n",
    "\n",
    "# mixture: what is the mixture ratio of the library. This works together with \n",
    "# sizes. For the example values, the final mixed library would have 1e5 * 1\n",
    "# O1, 1e5 * 1, O2, and and 1e6 * 10 O1/O2. Note that the **ratio** matters, \n",
    "# not the absolute value. You do not need to have all 1E10 clones... in fact,\n",
    "# keep as small as possible while maintinaing ratios. I'd recommend setting \n",
    "# the lowest count library bit to 1, then scaling rest appropriately.\n",
    "library_mixture = {('1',):1,\n",
    "                   ('2',):1,\n",
    "                   ('1','2'):10}\n",
    "\n",
    "# The number of plasmids per cell is set by sampling from a Poisson \n",
    "# distribuation. If 0 or None, each cell gets exactly one plasmid. Otherwise,\n",
    "# do Poisson sampling.\n",
    "lambda_value = 3\n",
    "\n",
    "# Maximum number of plasmids per cell. The lower this number, the faster the\n",
    "# analysis; however, if you make it too small relative to lambda_value, you'll\n",
    "# distort the Poisson distribution by cutting off the long right tail. 10 should\n",
    "# be safe for lambda ~ 2-3. \n",
    "max_num_plasmids = 10 \n",
    "\n",
    "\n",
    "# -----------------------------------------------------------------------------\n",
    "# Pre selection culture set up\n",
    "\n",
    "# Number of cells that come out of glycerol stock\n",
    "# (NIH says 40%)\n",
    "num_thawed_colonies = 1e7\n",
    "\n",
    "# Overnight cell culture volume\n",
    "overnight_volume_in_mL = 10\n",
    "\n",
    "# Grow cells to this cfu/mL before diluting into IPTG \n",
    "# (OD600 of 0.35 on spec is 89370229 cfu/mL)\n",
    "pre_iptg_cfu_mL = 90000000\n",
    "\n",
    "# Grow out this long before putting into selection conditions\n",
    "iptg_out_growth_time = 30\n",
    "\n",
    "# Dilute by this factor when adding to IPTG tubes\n",
    "post_iptg_dilution_factor = 0.2/10.2\n",
    "\n",
    "\n",
    "\n",
    "# -----------------------------------------------------------------------------\n",
    "# Selection conditions\n",
    "\n",
    "# condition_blocks is a list of dictionaries defining different growt\n",
    "# conditions. Each dictionary should have a \"marker\" key with a value of either\n",
    "# \"kanR\" or \"pheS\", a \"select\" key with a value of either 0 or 1, and a \"iptg\"\n",
    "# key with a list of iptg concentrations (in mM). \n",
    "\n",
    "iptg_concs = [0, 0.0001, 0.001, 0.003, 0.01, 0.03, 0.1, 1.0]\n",
    "condition_blocks = [{\"iptg\":[0,1],\n",
    "                     \"marker\":\"kanR\",\n",
    "                     \"select\":0},\n",
    "                    {\"iptg\":[0,1],\n",
    "                     \"marker\":\"pheS\",\n",
    "                     \"select\":0},\n",
    "                    {\"iptg\":iptg_concs,\n",
    "                     \"marker\":\"kanR\",\n",
    "                     \"select\":1},\n",
    "                    {\"iptg\":iptg_concs,\n",
    "                     \"marker\":\"pheS\",\n",
    "                     \"select\":1}]\n",
    "                     \n",
    "# -----------------------------------------------------------------------------\n",
    "# Data collection parameters\n",
    "\n",
    "# Sample the population at the following times post treatment (minutes)\n",
    "sample_times = [95,110,125]\n",
    "\n",
    "total_num_reads = 1e9\n",
    "\n",
    "\n"
   ]
  },
  {
   "cell_type": "code",
   "execution_count": 8,
   "id": "c65aa88b-c892-4e62-974b-548ce7b959f5",
   "metadata": {},
   "outputs": [
    {
     "name": "stdout",
     "output_type": "stream",
     "text": [
      "calculating phenotypes\n"
     ]
    },
    {
     "data": {
      "application/vnd.jupyter.widget-view+json": {
       "model_id": "b65941bfc96c44f79f40a405dacc3ec7",
       "version_major": 2,
       "version_minor": 0
      },
      "text/plain": [
       "  0%|          | 0/224890 [00:00<?, ?it/s]"
      ]
     },
     "metadata": {},
     "output_type": "display_data"
    },
    {
     "name": "stdout",
     "output_type": "stream",
     "text": [
      "storing phenotypes\n",
      "Generating initial populations\n"
     ]
    },
    {
     "data": {
      "application/vnd.jupyter.widget-view+json": {
       "model_id": "6b58333824434fdfb9c8160ed46ca767",
       "version_major": 2,
       "version_minor": 0
      },
      "text/plain": [
       "  0%|          | 0/10200000 [00:00<?, ?it/s]"
      ]
     },
     "metadata": {},
     "output_type": "display_data"
    },
    {
     "name": "stdout",
     "output_type": "stream",
     "text": [
      "Getting bacterial growth rates\n"
     ]
    },
    {
     "data": {
      "application/vnd.jupyter.widget-view+json": {
       "model_id": "bbbc92071f2a4ddd94b8706e26570c60",
       "version_major": 2,
       "version_minor": 0
      },
      "text/plain": [
       "  0%|          | 0/1102349 [00:00<?, ?it/s]"
      ]
     },
     "metadata": {},
     "output_type": "display_data"
    }
   ],
   "source": [
    "# -----------------------------------------------------------------------------\n",
    "# Build library\n",
    "\n",
    "libraries, genotype_df = generate_libraries(aa_sequence=aa_sequence,\n",
    "                                            mutated_sites=mutated_sites,\n",
    "                                            seq_starts_at=seq_starts_at,\n",
    "                                            max_num_combos=max_num_combos,\n",
    "                                            internal_doubles=internal_doubles,\n",
    "                                            degen_codon=degen_codon)\n",
    "\n",
    "condition_df = None\n",
    "for c in condition_blocks:\n",
    "    condition_df = build_condition_dataframe(**c,current_df=condition_df)\n",
    "\n",
    "# -----------------------------------------------------------------------------\n",
    "# Calculate phenotypes\n",
    "\n",
    "# Calculate phenotype. Each row is indexed by a unique genotype\n",
    "phenotype_df, genotype_df = generate_phenotypes(genotype_df=genotype_df,\n",
    "                                                condition_df=condition_df,\n",
    "                                                ensemble_spreadsheet=ensemble_spreadsheet,\n",
    "                                                ddG_spreadsheet=ddG_spreadsheet,\n",
    "                                                scale_obs_by=12,\n",
    "                                                mut_growth_rate_std=1,\n",
    "                                                T=T,\n",
    "                                                R=R)\n",
    "\n",
    "# -----------------------------------------------------------------------------\n",
    "# Sample from library and grow out\n",
    "\n",
    "# Sample from the main library\n",
    "input_library = transform_and_mix(libraries=libraries,\n",
    "                                  transform_sizes=transform_sizes,\n",
    "                                  library_mixture=library_mixture,\n",
    "                                  max_num_plasmids=max_num_plasmids,\n",
    "                                  lambda_value=lambda_value)\n",
    "\n",
    "\n",
    "# Create initial populations and growth rates for each cell under all relevant \n",
    "# conditions\n",
    "init_output = initialize_population(input_library=input_library,\n",
    "                                    phenotype_df=phenotype_df,\n",
    "                                    genotype_df=genotype_df,\n",
    "                                    condition_df=condition_df,\n",
    "                                    num_thawed_colonies=num_thawed_colonies,\n",
    "                                    overnight_volume_in_mL=overnight_volume_in_mL,\n",
    "                                    pre_iptg_cfu_mL=pre_iptg_cfu_mL,\n",
    "                                    iptg_out_growth_time=iptg_out_growth_time,\n",
    "                                    post_iptg_dilution_factor=post_iptg_dilution_factor)\n",
    "    \n",
    "bacteria, ln_pop_array, bact_condition_k = init_output\n"
   ]
  },
  {
   "cell_type": "code",
   "execution_count": 12,
   "id": "5f68aa88-4360-4b53-be4d-94e95aab2407",
   "metadata": {},
   "outputs": [
    {
     "data": {
      "text/plain": [
       "(1102349, 20)"
      ]
     },
     "execution_count": 12,
     "metadata": {},
     "output_type": "execute_result"
    }
   ],
   "source": [
    "bact_condition_k.shape"
   ]
  },
  {
   "cell_type": "code",
   "execution_count": null,
   "id": "3579b374-8aef-47f1-a425-54f257552356",
   "metadata": {},
   "outputs": [],
   "source": [
    "\n",
    "\n",
    "# Get the population over time for each each selection and iptg condition\n",
    "pops_vs_time = growth_with_selection(ln_pop_array,\n",
    "                                     growth_rates,\n",
    "                                     time_points=sample_times)\n",
    "\n",
    "# -----------------------------------------------------------------------------\n",
    "# Sequence samples and summarize results\n",
    "df, genotype_df, condition_df = sequence_and_collate(pops_vs_time=pops_vs_time,\n",
    "                                                     iptg_concs=iptg_concs,\n",
    "                                                     sample_times=sample_times,\n",
    "                                                     input_library=input_library,\n",
    "                                                     all_genotypes=all_genotypes,\n",
    "                                                     num_reads_per_condition=num_reads_per_condition)\n",
    "\n"
   ]
  },
  {
   "cell_type": "code",
   "execution_count": null,
   "id": "3316127f-0f26-4ab4-ab9b-cd8ee47a6f81",
   "metadata": {},
   "outputs": [],
   "source": [
    "np.stack([ln_pop_array]*20,axis=0)[0].shape"
   ]
  },
  {
   "cell_type": "code",
   "execution_count": null,
   "id": "075de7f2-b4ee-4db4-9e05-1f6febb351b5",
   "metadata": {},
   "outputs": [],
   "source": [
    "\n",
    "print(\"Generating initial populations\",flush=True)\n",
    "if input_library.ndim == 1:\n",
    "\n",
    "    bacteria, ln_pop_array = tfscreen.thaw_glycerol_stock(input_library)\n",
    "    bacteria, counts = np.unique(bacteria,return_counts=True)\n",
    "    ln_pop_array = np.log(np.exp(ln_pop_array[0])*counts)\n",
    "\n",
    "else:\n",
    "\n",
    "    to_thaw = []\n",
    "    indexer = {}\n",
    "    for i in tqdm(range(input_library.shape[0])):\n",
    "        \n",
    "        tmp_genos = list(input_library[i][input_library[i] != \"-\"])\n",
    "        tmp_genos.sort()\n",
    "        tmp_genos = tuple(tmp_genos)\n",
    "        \n",
    "        if tmp_genos not in indexer:\n",
    "            indexer[tmp_genos] = i\n",
    "        \n",
    "        to_thaw.append(indexer[tmp_genos])\n",
    "\n",
    "    to_thaw = np.array(to_thaw)\n",
    "    reverse_indexer = dict(zip(indexer.values(),indexer.keys()))\n",
    "\n",
    "    bacteria, ln_pop_array = tfscreen.thaw_glycerol_stock(to_thaw)\n",
    "    bacteria, counts = np.unique(bacteria,return_counts=True)\n",
    "    ln_pop_array = np.log(np.exp(ln_pop_array[0])*counts)\n",
    "\n",
    "    bacteria = np.array([reverse_indexer[b] for b in bacteria],dtype=object)\n",
    "    "
   ]
  },
  {
   "cell_type": "code",
   "execution_count": null,
   "id": "84b44e85-d7e2-4cd3-98b2-a4e6b4939b46",
   "metadata": {},
   "outputs": [],
   "source": [
    "plt.hist(ln_pop_array,bins=np.arange(-6,6,0.1))\n"
   ]
  },
  {
   "cell_type": "code",
   "execution_count": null,
   "id": "d47cfd4f-2e23-4524-a043-b61beed42e7a",
   "metadata": {},
   "outputs": [],
   "source": []
  },
  {
   "cell_type": "code",
   "execution_count": null,
   "id": "05da2984-f47d-4edd-902a-7f734aa6900f",
   "metadata": {},
   "outputs": [],
   "source": [
    "bacteria, population = tfscreen.thaw_glycerol_stock(out)\n",
    "bacteria, counts = np.unique(bacteria,return_counts=True)\n",
    "population = np.log(np.exp(population[0])*counts)\n",
    "\n",
    "\n"
   ]
  },
  {
   "cell_type": "markdown",
   "id": "d294b4ae-e594-4a12-8bb2-edb082766d2e",
   "metadata": {},
   "source": [
    "\n",
    "\n",
    "\n",
    "genotype_to_idx = dict(zip(list(genotype_df.index),\n",
    "                           range(len(genotype_df.index))))\n",
    "\n",
    "num_conditions = condition_df.shape[0]\n",
    "num_bacteria = len(input_library)\n",
    "\n",
    "condition_k = np.array(phenotype_df[\"growth_rate\"])\n",
    "condition_k = np.reshape(condition_k,\n",
    "                         (len(condition_k)//num_conditions,\n",
    "                          num_conditions))\n",
    "base_delta_k = np.array(genotype_df[\"growth_rate_effect\"])\n",
    "\n",
    "\n",
    "if input_library.ndim == 1:\n",
    "    \n",
    "    idx = np.array([genotype_to_idx[g] for g in input_library])\n",
    "\n",
    "    clone_genotypes = input_library\n",
    "    clone_base_delta_k = base_delta_k[idx]\n",
    "    clone_condition_k = condition_k[idx]\n",
    "\n",
    "else:\n",
    "\n",
    "    clone_genotypes = []\n",
    "    clone_condition_k = np.zeros((num_bacteria,num_conditions),dtype=float)\n",
    "    clone_base_delta_k = np.zeros(num_bacteria)\n",
    "    \n",
    "    for i in tqdm(range(len(input_library))):\n",
    "    \n",
    "        genotypes = input_library[i][input_library[i] != \"-\"]\n",
    "        idx = np.array([genotype_to_idx[g] for g in genotypes])\n",
    "    \n",
    "        clone_genotypes.append(genotypes)\n",
    "        clone_condition_k[i] = np.mean(condition_k[idx,:],axis=0)\n",
    "        clone_base_delta_k[i] = np.mean(base_delta_k[idx])\n",
    "    \n",
    "    clone_genotypes = list(clone_genotypes)\n"
   ]
  },
  {
   "cell_type": "code",
   "execution_count": null,
   "id": "a2fb79d4-809c-405c-9b8f-efcbf3aea047",
   "metadata": {},
   "outputs": [],
   "source": [
    "input_library = [\n",
    "x, y = np.unique(input_library,return_counts=True)\n",
    "input_library.shape\n",
    "\n",
    "\n",
    "    "
   ]
  },
  {
   "cell_type": "code",
   "execution_count": null,
   "id": "5a6d978a-7ce2-491e-9de5-f5c12ff6e509",
   "metadata": {},
   "outputs": [],
   "source": [
    "base_k[0]"
   ]
  },
  {
   "cell_type": "code",
   "execution_count": null,
   "id": "880e5699-0403-4a5c-807d-ada486ae7f89",
   "metadata": {},
   "outputs": [],
   "source": [
    "df.to_csv(\"obs.csv\")\n",
    "genotype_df.to_csv(\"genotype.csv\")\n",
    "cfu_df.to_csv(\"cfu.csv\")"
   ]
  },
  {
   "cell_type": "code",
   "execution_count": null,
   "id": "583db7fe-ba65-4817-92d1-51fbf35a7cab",
   "metadata": {},
   "outputs": [],
   "source": [
    "# libraries --> dictionary keying each library to a list of mutations in each clone\n",
    "# \n",
    "# lib_phenotypes\n",
    "# [{'clone': ['V30N'],\n",
    "#    'ddG': array([2.0162, 1.8317, 1.8317, 2.0162, 2.0162, 1.8317, 1.8317, 2.0162,\n",
    "#           1.8317, 1.8312, 1.8312, 1.8312, 1.831 , 1.8309, 1.8309, 1.8309,\n",
    "#           0.    ]),\n",
    "#    'fx_occupied': array([0.0007608 , 0.00103465, 0.00426162, 0.01198636, 0.02997511,\n",
    "#           0.04687013, 0.05698534, 0.06055376]),\n",
    "#    'fx_folded': array([1.        , 1.        , 0.99999996, 0.99999979, 0.99999928,\n",
    "#           0.99999875, 0.99999842, 0.9999983 ]),\n",
    "#    'obs': array([0.0007608 , 0.00103465, 0.00426162, 0.01198636, 0.02997509,\n",
    "#           0.04687007, 0.05698525, 0.06055365]),\n",
    "#    'base_growth_rate': np.float64(0.005445439477620463),\n",
    "#    'sel_kan': array([3.98258294e-05, 5.41413358e-05, 2.22833015e-04, 6.26648000e-04,\n",
    "#           1.56701933e-03, 2.45021391e-03, 2.97899038e-03, 3.16553093e-03]),\n",
    "#    'kan_p0g': np.float64(5.4454394776204634e-08),\n",
    "#    'kan_p1g': np.float64(0.004356351582096371),\n",
    "#    'sel_pheS': array([0.00431658, 0.00430226, 0.00413357, 0.00372976, 0.00278939,\n",
    "#           0.00190619, 0.00137742, 0.00119088]),\n",
    "#    'pheS_p0g': np.float64(0.004356351582096371),\n",
    "#    'pheS_p1g': np.float64(5.4454394776204634e-08)},\n",
    "\n",
    "# input_library and all_genotypes\n",
    "# input_library -> array([214305,   8702, 169508, ...,  81919, 281807,  70355],shape=(10000000,))\n",
    "\n",
    "# all_genotypes -> list with full genotype information (like lib_phenotypes) indexed by input library.\n",
    "# ln_pop_array : log population of each clone in initial library before selection (indexed by input_library)\n",
    "# base_growth_rates : base growth rate of each clone (indexed by input_library)\n",
    "# growth_rates : dictionary keyed to selection. values are N x num_iptg arrays where N is indexed by input_library\n"
   ]
  },
  {
   "cell_type": "code",
   "execution_count": null,
   "id": "9bfc50dd-ea1a-4d8a-9900-7f70b3f5d8ef",
   "metadata": {},
   "outputs": [],
   "source": [
    "\n",
    "all_genotypes = []\n",
    "for lib in libraries:\n",
    "    all_genotypes.extend([\"/\".join(g) for g in libraries[lib]])\n",
    "\n",
    "genotype_df = build_genotype_df(all_genotypes)\n"
   ]
  },
  {
   "cell_type": "code",
   "execution_count": null,
   "id": "b423ac9d-9bb5-4534-8f5a-37f1cdf975ba",
   "metadata": {},
   "outputs": [],
   "source": [
    "libraries[('1',)]"
   ]
  },
  {
   "cell_type": "code",
   "execution_count": null,
   "id": "b9c7a7ff-9845-4159-9243-fe96b6142d91",
   "metadata": {},
   "outputs": [],
   "source": []
  }
 ],
 "metadata": {
  "kernelspec": {
   "display_name": "Python 3 (ipykernel)",
   "language": "python",
   "name": "python3"
  },
  "language_info": {
   "codemirror_mode": {
    "name": "ipython",
    "version": 3
   },
   "file_extension": ".py",
   "mimetype": "text/x-python",
   "name": "python",
   "nbconvert_exporter": "python",
   "pygments_lexer": "ipython3",
   "version": "3.12.2"
  }
 },
 "nbformat": 4,
 "nbformat_minor": 5
}
