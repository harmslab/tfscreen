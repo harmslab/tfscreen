{
 "cells": [
  {
   "cell_type": "code",
   "execution_count": 21,
   "id": "162c625e-4102-4520-a7d1-7b69eaec8a6b",
   "metadata": {},
   "outputs": [],
   "source": [
    "%matplotlib inline\n",
    "from matplotlib import pyplot as plt\n",
    "import numpy as np\n",
    "import pandas as pd\n",
    "from tqdm.auto import tqdm\n",
    "\n",
    "from generate_libraries import generate_libraries\n",
    "from generate_phenotypes import generate_phenotypes\n",
    "from pheno_to_growth import pheno_to_growth\n",
    "from transform_and_mix import transform_and_mix\n",
    "from initialize_population import initialize_population\n",
    "from growth_with_selection import growth_with_selection\n",
    "from sequence_and_collate import sequence_and_collate\n",
    "\n",
    "import random\n",
    "import copy\n",
    "\n",
    "import csv\n",
    "from collections import defaultdict\n"
   ]
  },
  {
   "cell_type": "code",
   "execution_count": 22,
   "id": "8ac75438-4453-4aa9-844c-da889a830eab",
   "metadata": {},
   "outputs": [],
   "source": [
    "# -----------------------------------------------------------------------------\n",
    "# Library definition information\n",
    "\n",
    "# wildtype amino acid sequence (single letter, uppercase)\n",
    "aa_sequence = \\\n",
    "\"\"\"\n",
    "VKPVTLYDVAEYAGVSYQTVSRVVNQASHVSAKTREKVEAAMAELNYIPNRVAQQLAGK\n",
    "QSLLIGVATSSLALHAPSQIVAAIKSRADQLGASVVVSMVERSGVEACKAAVHNLLAQR\n",
    "VSGLIINYPLDDQDAIAVEAACTNVPALFLDVSDQTPINSIIFSHEDGTRLGVEHLVAL\n",
    "GHQQIALLAGPLSSVSARLRLAGWHKYLTRNQIQPIAEREGDWSAMSGFQQTMQMLNEG\n",
    "IVPTAMLVANDQMALGAMRAITESGLRVGADISVVGYDDTEDSSCYIPPLTTIKQDFRL\n",
    "LGQTSVDRLLQLSQGQAVKGNQLLPVSLVKRKTTLAPNTQTASP\n",
    "\"\"\"\n",
    "\n",
    "# sites that are mutated. sites should either be wildtype \n",
    "# amino acids or non-uppercase letters. non-uppercase letters\n",
    "# are interpreted as sub-library identifiers. \n",
    "mutated_sites = \\\n",
    "\"\"\"\n",
    "VKPVTLYDVAEYAGVSYQTVSRVVNQASH111111111111111111111111111111\n",
    "QS2222222222222222222222222222222222222VERSGVEACKAAVHNLLAQR\n",
    "VSGLIINYPLDDQDAIAVEAACTNVPALFLDVSDQTPINSIIFSHEDGTRLGVEHLVAL\n",
    "GHQQIALLAGPLSSVSARLRLAGWHKYLTRNQIQPIAEREGDWSAMSGFQQTMQMLNEG\n",
    "IVPTAMLVANDQMALGAMRAITESGLRVGADISVVGYDDTEDSSCYIPPLTTIKQDFRL\n",
    "LGQTSVDRLLQLSQGQAVKGNQLLPVSLVKRKTTLAPNTQTASP\n",
    "\"\"\"\n",
    "\n",
    "# \"\"\"\n",
    "# VKPVTLYDVAEYAGVSYQTVSRVVNQASH1SAKTREKVEAAMAELNYIPNRVAQQLAGK\n",
    "# QSLLIGVATSSLALHAPSQIVAAIKSRADQLGASVVVS2VERSGVEACKAAVHNLLAQR\n",
    "# VSGLIINYPLDDQDAIAVEAACTNVPALFLDVSDQTPINSIIFSHEDGTRLGVEHLVAL\n",
    "# GHQQIALLAGPLSSVSARLRLAGWHKYLTRNQIQPIAEREGDWSAMSGFQQTMQMLNEG\n",
    "# IVPTAMLVANDQMALGAMRAITESGLRVGADISVVGYDDTEDSSCYIPPLTTIKQDFRL\n",
    "# LGQTSVDRLLQLSQGQAVKGNQLLPVSLVKRKTTLAPNTQTASP\n",
    "# \"\"\"\n",
    "\n",
    "# Number of first letter in amino sequence. Should match \n",
    "# numbering in ddG_spreadsheet\n",
    "seq_starts_at = 1\n",
    "\n",
    "# Should we make internal combinations (within O1, O2, etc.)\n",
    "internal_doubles = False \n",
    "\n",
    "# highest order combination to make (1 -- alone, 2 -- pairs,\n",
    "# 3 -- triplicates, etc.)\n",
    "max_num_combos = 2\n",
    "\n",
    "# What codon to place at mutated sites\n",
    "degen_codon = \"nnt\"\n",
    "\n",
    "\n",
    "# -----------------------------------------------------------------------------\n",
    "# Transformation and library composition\n",
    "\n",
    "# Define how many transformants to include for each sub-library. Keys are \n",
    "# tuples of strings. ('1',) means O1; ('2',) means O2; ('1','2') means O1/O2. \n",
    "# if you set internal_doubles to True above, you can then add ('1','1') and \n",
    "# ('2','2') to get the doubles within each pool. \n",
    "\n",
    "# sizes: how many clones will you get for the smallest transformation of this\n",
    "# library\n",
    "transform_sizes = {('1',):1e5,\n",
    "                   ('2',):1e5,\n",
    "                   ('1','2'):1e6}\n",
    "\n",
    "# mixture: what is the mixture ratio of the library. This works together with \n",
    "# sizes. For the example values, the final mixed library would have 1e5 * 1\n",
    "# O1, 1e5 * 1, O2, and and 1e6 * 10 O1/O2. Note that the **ratio** matters, \n",
    "# not the absolute value. You do not need to have all 1E10 clones... in fact,\n",
    "# keep as small as possible while maintinaing ratios. I'd recommend setting \n",
    "# the lowest count library bit to 1, then scaling rest appropriately.\n",
    "library_mixture = {('1',):1,\n",
    "                   ('2',):1,\n",
    "                   ('1','2'):10}\n",
    "\n",
    "# The number of plasmids per cell is set by sampling from a Poisson \n",
    "# distribuation. If 0 or None, each cell gets exactly one plasmid. Otherwise,\n",
    "# do Poisson sampling.\n",
    "lambda_value = 0\n",
    "\n",
    "# Maximum number of plasmids per cell. The lower this number, the faster the\n",
    "# analysis; however, if you make it too small relative to lambda_value, you'll\n",
    "# distort the Poisson distribution by cutting off the long right tail.\n",
    "max_num_plasmids = 1 #Should be 10 \n",
    "\n",
    "# -----------------------------------------------------------------------------\n",
    "# Pre selection culture set up\n",
    "\n",
    "# Number of cells that come out of glycerol stock\n",
    "#NIH says 40% \n",
    "num_thawed_colonies = 1e7 #1e7 #1e3\n",
    "\n",
    "# Overnight cell culture volume\n",
    "overnight_volume_in_mL = 10\n",
    "\n",
    "# Overnight culture saturation level\n",
    "saturation_cfu_mL = 1e9\n",
    "\n",
    "# Dilution factor morning of experiment\n",
    "morning_dilution = 1/70\n",
    "\n",
    "# Grow cells to this cfu/mL before diluting into IPTG \n",
    "# (OD600 of 0.35 on spec is 89370229 cfu/mL\n",
    "pre_iptg_cfu_mL = 90000000\n",
    "\n",
    "# Dilute by this factor when adding to IPTG tubes\n",
    "iptg_dilution_factor = 0.2/10.2\n",
    "\n",
    "# Grow out this long before putting into selection conditions\n",
    "iptg_out_growth_time = 30\n",
    "\n",
    "# -----------------------------------------------------------------------------\n",
    "# Data collection parameters\n",
    "\n",
    "# Sample the population at the following times post treatment (minutes)\n",
    "#How important is it that these times are real? \n",
    "sample_times = [30,60,90]\n",
    "\n",
    "# number of reads per condition (time, iptg, selection)\n",
    "num_reads_per_condition = 38e6 #1e6 #3.5e7 #3e7 #50e6 #5e3  #rough estimate 1 billion reads/(16IPTG + sel*3, + 2 IPTG 0 or  1*3+ 2 initial libraries = 20)\n",
    "\n",
    "\n",
    "# 2e9/((16*3) + 4)/1e6\n"
   ]
  },
  {
   "cell_type": "code",
   "execution_count": 23,
   "id": "3579b374-8aef-47f1-a425-54f257552356",
   "metadata": {},
   "outputs": [],
   "source": [
    "#Build library\n",
    "# Generate libraries \n",
    "#Save library \n",
    "libraries = generate_libraries(aa_sequence=aa_sequence,\n",
    "                               mutated_sites=mutated_sites,\n",
    "                               seq_starts_at=seq_starts_at,\n",
    "                               max_num_combos=max_num_combos,\n",
    "                               internal_doubles=internal_doubles,\n",
    "                               degen_codon=degen_codon)\n",
    "\n",
    " "
   ]
  },
  {
   "cell_type": "code",
   "execution_count": 24,
   "id": "60521df7",
   "metadata": {},
   "outputs": [],
   "source": [
    "\n",
    "# -----------------------------------------------------------------------------\n",
    "# Ensemble observables to growth \n",
    "\n",
    "# sel_name is the name of the selection. This can be whatever you like, it just\n",
    "# identifies the selection for later. \n",
    "\n",
    "# pheno_0_growth is the growth rate when the phenotype has a value of 0\n",
    "# pheno_1_growth is the growth rate when the phenotype has a value of 1\n",
    "\n",
    "# pheno_0_growth and pheno_1_growth can either be a single value (assigned to \n",
    "# all clones) or a pair of values (corresponding to the mean and standard dev\n",
    "# of distribution to sample for each clone). \n",
    "\n",
    "# ln_base_growth_rate is the natural log of the base growth rate. This\n",
    "# base is assumed to be the wildtype growth rate. For mutants, we sample\n",
    "# from a normal distributio defined by ln_base_growth_rate (mean) and\n",
    "# ln_base_growth_rate_std (std). The actual growth rate is then \n",
    "# exp(ln_growth_rate). Once these are assigned by a call to pheno_to_growth,\n",
    "# they are not assigned again by subsequent calls. (Put another way, these\n",
    "# terms are ignored after the first call of pheno_to_growth). \n",
    "\n",
    "# pheno_name is the phenotype to correlate to growth. it can be one of:\n",
    "#     'obs': fx_folded*fx_occupied - thing I care about! \n",
    "#     'fx_folded': fraction of molecules in folded state\n",
    "#     'fx_occupied': fraction of molecules occupying 'observable' states \n",
    "#     'ddG': Boltzmann-weighted free energy of the state\n",
    "\n",
    "kan_selection = {\"sel_name\":\"kan\",  \n",
    "                 \"pheno_0_growth\":0.00001, #make not zero to avoid division probelm \n",
    "                 \"pheno_1_growth\":0.8,\n",
    "                 \"ln_base_growth_rate\":-5, #e to this times the 0 pheo growth \n",
    "                 \"ln_base_growth_rate_std\":0.1,\n",
    "                 \"pheno_name\":\"obs\",\n",
    "                 \"scale_pheno_by\":12} \n",
    "                                     \n",
    "phes_selection = {\"sel_name\":\"pheS\",  \n",
    "                  \"pheno_0_growth\":0.8,\n",
    "                  \"pheno_1_growth\":0.00001, #e to this times the 1 kan growth \n",
    "                  \"ln_base_growth_rate\":-5,\n",
    "                  \"ln_base_growth_rate_std\":0.1, #set to zero for w calc\n",
    "                  \"pheno_name\":\"obs\",\n",
    "                  \"scale_pheno_by\":12} \n",
    "# -----------------------------------------------------------------------------\n",
    "# Ensemble information\n",
    "\n",
    "# IPTG concentrations in mM\n",
    "iptg_concs = np.array([0.000001,\n",
    "                       0.00001,\n",
    "                       0.0001,\n",
    "                       0.0003,\n",
    "                       0.0010,\n",
    "                       0.0030,\n",
    "                       0.0100,\n",
    "                       0.0300])*1e3\n",
    "\n",
    "# spreadsheet defining ensemble and interactions with iptg\n",
    "#Right now this asserts 3 states dna bound, iptg bound, unfolded \n",
    "ensemble_spreadsheet = \"input/ensemble_dG.xlsx\"\n",
    "\n",
    "# Spreadsheet with affects of all mutations on each state in ensemble\n",
    "#Output of ThermoMPNN with the effect of mutations to the unfolded always 0 \n",
    "ddG_spreadsheet = \"input/ddG_no_monomer.xlsx\"\n",
    "\n",
    "T = 310      # K\n",
    "R = 0.001987 # kcal/mol/K\n"
   ]
  },
  {
   "cell_type": "code",
   "execution_count": 25,
   "id": "c46de71b-9023-48cb-8ffc-88ac3e21bedc",
   "metadata": {},
   "outputs": [
    {
     "name": "stdout",
     "output_type": "stream",
     "text": [
      "calculating phenotypes for library ('1',)\n"
     ]
    },
    {
     "data": {
      "application/vnd.jupyter.widget-view+json": {
       "model_id": "833380b45c81401095bd504ae15441ce",
       "version_major": 2,
       "version_minor": 0
      },
      "text/plain": [
       "  0%|          | 0/480 [00:00<?, ?it/s]"
      ]
     },
     "metadata": {},
     "output_type": "display_data"
    },
    {
     "name": "stdout",
     "output_type": "stream",
     "text": [
      "calculating phenotypes for library ('2',)\n"
     ]
    },
    {
     "data": {
      "application/vnd.jupyter.widget-view+json": {
       "model_id": "b262f20c627c4b30b559c49848d66ce0",
       "version_major": 2,
       "version_minor": 0
      },
      "text/plain": [
       "  0%|          | 0/592 [00:00<?, ?it/s]"
      ]
     },
     "metadata": {},
     "output_type": "display_data"
    },
    {
     "name": "stdout",
     "output_type": "stream",
     "text": [
      "calculating phenotypes for library ('1', '2')\n"
     ]
    },
    {
     "data": {
      "application/vnd.jupyter.widget-view+json": {
       "model_id": "6d9152a628874defb72853fbe9131565",
       "version_major": 2,
       "version_minor": 0
      },
      "text/plain": [
       "  0%|          | 0/284160 [00:00<?, ?it/s]"
      ]
     },
     "metadata": {},
     "output_type": "display_data"
    }
   ],
   "source": [
    "#Need to save lib phenotypes \n",
    "# -----------------------------------------------------------------------------\n",
    "# Calculate phenotypes, and run screen\n",
    "\n",
    "# Calculate phenotype of each clone given ensemble\n",
    "lib_phenotypes = generate_phenotypes(libraries=libraries,        \n",
    "                                     ensemble_spreadsheet=ensemble_spreadsheet,\n",
    "                                     ddG_spreadsheet=ddG_spreadsheet,\n",
    "                                     concs_mM=iptg_concs,\n",
    "                                     T=T,\n",
    "                                     R=R)\n",
    "\n"
   ]
  },
  {
   "cell_type": "code",
   "execution_count": 27,
   "id": "ba5b0332-3cfc-4e32-af9f-b2247a13dc5f",
   "metadata": {},
   "outputs": [
    {
     "name": "stdout",
     "output_type": "stream",
     "text": [
      "Calculating growth rates for library ('1',) with kan\n"
     ]
    },
    {
     "data": {
      "application/vnd.jupyter.widget-view+json": {
       "model_id": "69706ec12db543b5b0aeb515f7c9eb69",
       "version_major": 2,
       "version_minor": 0
      },
      "text/plain": [
       "  0%|          | 0/480 [00:00<?, ?it/s]"
      ]
     },
     "metadata": {},
     "output_type": "display_data"
    },
    {
     "name": "stdout",
     "output_type": "stream",
     "text": [
      "Calculating growth rates for library ('2',) with kan\n"
     ]
    },
    {
     "data": {
      "application/vnd.jupyter.widget-view+json": {
       "model_id": "5caedcc5f56e40cc80ce486422c1b842",
       "version_major": 2,
       "version_minor": 0
      },
      "text/plain": [
       "  0%|          | 0/592 [00:00<?, ?it/s]"
      ]
     },
     "metadata": {},
     "output_type": "display_data"
    },
    {
     "name": "stdout",
     "output_type": "stream",
     "text": [
      "Calculating growth rates for library ('1', '2') with kan\n"
     ]
    },
    {
     "data": {
      "application/vnd.jupyter.widget-view+json": {
       "model_id": "dbc1a8b5dbde49cfbb2ca92ae3493ac8",
       "version_major": 2,
       "version_minor": 0
      },
      "text/plain": [
       "  0%|          | 0/284160 [00:00<?, ?it/s]"
      ]
     },
     "metadata": {},
     "output_type": "display_data"
    },
    {
     "name": "stdout",
     "output_type": "stream",
     "text": [
      "Saved combined DataFrame to: kan_lib_file.csv\n",
      "Calculating growth rates for library ('1',) with pheS\n"
     ]
    },
    {
     "data": {
      "application/vnd.jupyter.widget-view+json": {
       "model_id": "aefbba16db2249e5a41b9bd4d488b927",
       "version_major": 2,
       "version_minor": 0
      },
      "text/plain": [
       "  0%|          | 0/480 [00:00<?, ?it/s]"
      ]
     },
     "metadata": {},
     "output_type": "display_data"
    },
    {
     "name": "stdout",
     "output_type": "stream",
     "text": [
      "Calculating growth rates for library ('2',) with pheS\n"
     ]
    },
    {
     "data": {
      "application/vnd.jupyter.widget-view+json": {
       "model_id": "1acc11a4fb49406d827d688f30295676",
       "version_major": 2,
       "version_minor": 0
      },
      "text/plain": [
       "  0%|          | 0/592 [00:00<?, ?it/s]"
      ]
     },
     "metadata": {},
     "output_type": "display_data"
    },
    {
     "name": "stdout",
     "output_type": "stream",
     "text": [
      "Calculating growth rates for library ('1', '2') with pheS\n"
     ]
    },
    {
     "data": {
      "application/vnd.jupyter.widget-view+json": {
       "model_id": "be0a6784dc554b9390047fda81861a60",
       "version_major": 2,
       "version_minor": 0
      },
      "text/plain": [
       "  0%|          | 0/284160 [00:00<?, ?it/s]"
      ]
     },
     "metadata": {},
     "output_type": "display_data"
    },
    {
     "name": "stdout",
     "output_type": "stream",
     "text": [
      "Saved combined DataFrame to: pheS_lib_file.csv\n"
     ]
    }
   ],
   "source": [
    "# Get growth rate under kanamycin selection\n",
    "\n",
    "lib_pheotypes = pheno_to_growth(lib_phenotypes, \n",
    "                                **kan_selection, \n",
    "                                return_df=True, #allows output to be saved \n",
    "                                save_path=\"kan_lib_file.csv\")\n",
    "\n",
    "# Get growth rate under pheS/4CP selection\n",
    "lib_pheotypes = pheno_to_growth(lib_phenotypes, \n",
    "                                **phes_selection, \n",
    "                                return_df=True, \n",
    "                                save_path=\"pheS_lib_file.csv\")"
   ]
  },
  {
   "cell_type": "code",
   "execution_count": 28,
   "id": "c1593c34-fb66-404d-893f-f00bfc5345c9",
   "metadata": {},
   "outputs": [
    {
     "name": "stdout",
     "output_type": "stream",
     "text": [
      "getting growth rates of each bacterium\n"
     ]
    },
    {
     "data": {
      "application/vnd.jupyter.widget-view+json": {
       "model_id": "4d84b4e68ce64eb39fb9982cc01cfad3",
       "version_major": 2,
       "version_minor": 0
      },
      "text/plain": [
       "  0%|          | 0/10000000 [00:00<?, ?it/s]"
      ]
     },
     "metadata": {},
     "output_type": "display_data"
    }
   ],
   "source": [
    "# Sample from the main library\n",
    "input_library, all_genotypes = transform_and_mix(lib_phenotypes=lib_phenotypes,\n",
    "                                                 transform_sizes=transform_sizes,\n",
    "                                                 library_mixture=library_mixture,\n",
    "                                                 max_num_plasmids=max_num_plasmids,\n",
    "                                                 lambda_value=lambda_value)\n",
    "\n",
    "# Create initial populations and growth rates for each cell under all relevant \n",
    "# conditions\n",
    "init_output = initialize_population(input_library,\n",
    "                                    all_genotypes,\n",
    "                                    num_thawed_colonies=num_thawed_colonies,\n",
    "                                    overnight_volume_in_mL=overnight_volume_in_mL,\n",
    "                                    saturation_cfu_mL=saturation_cfu_mL,\n",
    "                                    morning_dilution=morning_dilution,\n",
    "                                    pre_iptg_cfu_mL=pre_iptg_cfu_mL,\n",
    "                                    iptg_dilution_factor=iptg_dilution_factor,\n",
    "                                    iptg_out_growth_time=iptg_out_growth_time)\n",
    "input_library, ln_pop_array, base_growth_rates, growth_rates = init_output\n",
    "\n",
    "\n"
   ]
  },
  {
   "cell_type": "code",
   "execution_count": null,
   "id": "e9f9a721-f33c-41ae-807b-0c6e94c48b0f",
   "metadata": {},
   "outputs": [
    {
     "name": "stdout",
     "output_type": "stream",
     "text": [
      "simulating growth under all conditions\n"
     ]
    },
    {
     "data": {
      "application/vnd.jupyter.widget-view+json": {
       "model_id": "c80c58638d0d4edd89ce64836569fb16",
       "version_major": 2,
       "version_minor": 0
      },
      "text/plain": [
       "  0%|          | 0/6 [00:00<?, ?it/s]"
      ]
     },
     "metadata": {},
     "output_type": "display_data"
    },
    {
     "name": "stdout",
     "output_type": "stream",
     "text": [
      "sequencing samples of each condition\n"
     ]
    },
    {
     "data": {
      "application/vnd.jupyter.widget-view+json": {
       "model_id": "d262bc98c5fb464c9d82488794016a05",
       "version_major": 2,
       "version_minor": 0
      },
      "text/plain": [
       "  0%|          | 0/48 [00:00<?, ?it/s]"
      ]
     },
     "metadata": {},
     "output_type": "display_data"
    },
    {
     "name": "stdout",
     "output_type": "stream",
     "text": [
      "extracting sequence counts\n"
     ]
    },
    {
     "data": {
      "application/vnd.jupyter.widget-view+json": {
       "model_id": "5d785b34981348c9810c13a7518681a2",
       "version_major": 2,
       "version_minor": 0
      },
      "text/plain": [
       "  0%|          | 0/48 [00:00<?, ?it/s]"
      ]
     },
     "metadata": {},
     "output_type": "display_data"
    }
   ],
   "source": [
    "# Get the population over time for each each selection and iptg condition\n",
    "pops_vs_time = growth_with_selection(ln_pop_array,\n",
    "                                     growth_rates,\n",
    "                                     time_points=sample_times)\n",
    "\n",
    "# Sequence samples and summarize results\n",
    "df, genotype_df, cfu_df = sequence_and_collate(pops_vs_time=pops_vs_time,\n",
    "                                               iptg_concs=iptg_concs,\n",
    "                                               sample_times=sample_times,\n",
    "                                               input_library=input_library,\n",
    "                                               all_genotypes=all_genotypes,\n",
    "                                               num_reads_per_condition=num_reads_per_condition)\n"
   ]
  },
  {
   "cell_type": "code",
   "execution_count": null,
   "id": "880e5699-0403-4a5c-807d-ada486ae7f89",
   "metadata": {},
   "outputs": [],
   "source": [
    "df.to_csv(\"output/obs_many-state_molar_slower.csv\") #output_obs_20250703_NJ_df.csv\")\n",
    "genotype_df.to_csv(\"output/genotype_many-state_molar_slower.csv\") #enotype_obs_20250703_NJ_df.csv\")\n",
    "cfu_df.to_csv(\"output/cfu_many-state_molar_slower.csv\") #cfu_obs_20250703_df.csv\")"
   ]
  },
  {
   "cell_type": "code",
   "execution_count": null,
   "id": "0917e7d8-cf45-4814-ac9d-952ae7a86899",
   "metadata": {},
   "outputs": [],
   "source": []
  },
  {
   "cell_type": "code",
   "execution_count": null,
   "id": "6480048e-f403-4714-96ca-373732e05d43",
   "metadata": {},
   "outputs": [],
   "source": []
  }
 ],
 "metadata": {
  "kernelspec": {
   "display_name": "Python 3 (ipykernel)",
   "language": "python",
   "name": "python3"
  },
  "language_info": {
   "codemirror_mode": {
    "name": "ipython",
    "version": 3
   },
   "file_extension": ".py",
   "mimetype": "text/x-python",
   "name": "python",
   "nbconvert_exporter": "python",
   "pygments_lexer": "ipython3",
   "version": "3.12.2"
  }
 },
 "nbformat": 4,
 "nbformat_minor": 5
}
