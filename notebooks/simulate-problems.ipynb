{
 "cells": [
  {
   "cell_type": "code",
   "execution_count": null,
   "id": "7f8ba7c0-7074-4155-8a91-790928e49ddf",
   "metadata": {},
   "outputs": [],
   "source": [
    "import tfscreen\n",
    "from tqdm.auto import tqdm\n",
    "\n",
    "problems = {\n",
    "    \"skew_sigma\": [0, 1.5, 3],\n",
    "    \"lambda_value\": [0, 1.5, 3],\n",
    "    \"mut_growth_rate_scale\": [0.0002, 0.002, 0.02],\n",
    "    \"growth_rate_noise\": [0, 0.01, 0.1],\n",
    "    \"total_num_reads\": [3e9, 1.5e9, 3e8 ],\n",
    "    \"index_hop_freq\": [0, 0.05, 0.1],\n",
    "}\n"
   ]
  },
  {
   "cell_type": "code",
   "execution_count": null,
   "id": "440e7880-6e06-4b65-8820-708bdac1ed00",
   "metadata": {},
   "outputs": [],
   "source": [
    "for i in range(3):\n",
    "\n",
    "    output_prefix = f\"{i}_microscopic\"\n",
    "    override_keys = {}\n",
    "    for p in problems:\n",
    "        override_keys[p] = problems[p][i]\n",
    "    \n",
    "    tfscreen.run_simulation(yaml_file=\"input.yaml\",\n",
    "                            output_prefix=output_prefix,\n",
    "                            output_path=\"best-middle-worst\",\n",
    "                            override_keys=override_keys)\n",
    "\n",
    "for problem in tqdm(problems):\n",
    "\n",
    "    for i, value in enumerate(problems[problem]):\n",
    "            \n",
    "        output_prefix = f\"{i}_{problem}-{value}_microscopic\"\n",
    "        override_keys = {problem:value}\n",
    "        tfscreen.run_simulation(yaml_file=\"input.yaml\",\n",
    "                                output_prefix=output_prefix,\n",
    "                                output_path=\"single-problems\",\n",
    "                                override_keys=override_keys)\n"
   ]
  },
  {
   "cell_type": "code",
   "execution_count": null,
   "id": "d625191f-6dbd-4ac0-8933-ea8cb8230921",
   "metadata": {},
   "outputs": [],
   "source": [
    "\n",
    "\n",
    "\n",
    "\n"
   ]
  },
  {
   "cell_type": "code",
   "execution_count": null,
   "id": "0700ec4f-d1f1-41de-9249-c9a37059557d",
   "metadata": {},
   "outputs": [],
   "source": []
  }
 ],
 "metadata": {
  "kernelspec": {
   "display_name": "Python 3 (ipykernel)",
   "language": "python",
   "name": "python3"
  },
  "language_info": {
   "codemirror_mode": {
    "name": "ipython",
    "version": 3
   },
   "file_extension": ".py",
   "mimetype": "text/x-python",
   "name": "python",
   "nbconvert_exporter": "python",
   "pygments_lexer": "ipython3",
   "version": "3.12.2"
  }
 },
 "nbformat": 4,
 "nbformat_minor": 5
}
